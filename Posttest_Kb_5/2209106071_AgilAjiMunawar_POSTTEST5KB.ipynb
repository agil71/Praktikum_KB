{
  "nbformat": 4,
  "nbformat_minor": 0,
  "metadata": {
    "colab": {
      "provenance": []
    },
    "kernelspec": {
      "name": "python3",
      "display_name": "Python 3"
    },
    "language_info": {
      "name": "python"
    }
  },
  "cells": [
    {
      "cell_type": "code",
      "execution_count": 3,
      "metadata": {
        "id": "cgzCIylEiUyZ"
      },
      "outputs": [],
      "source": [
        "import pandas as pd\n",
        "from sklearn.model_selection import train_test_split\n",
        "from sklearn.preprocessing import StandardScaler\n",
        "from keras.models import Sequential\n",
        "from keras.layers import Dense\n"
      ]
    },
    {
      "cell_type": "markdown",
      "source": [
        "di posttest 5 kali ini saya menggunakan dataset Wine Quality dari UCI Machine Learning Repository. Dataset ini berisi data tentang kualitas anggur merah dari Portugal, yang diukur dengan berbagai fitur fisikokimia."
      ],
      "metadata": {
        "id": "_BbI45extgk7"
      }
    },
    {
      "cell_type": "code",
      "source": [
        "url = 'https://archive.ics.uci.edu/ml/machine-learning-databases/wine-quality/winequality-red.csv'\n",
        "data = pd.read_csv(url, delimiter=';')"
      ],
      "metadata": {
        "id": "-W3zyV6Sia4_"
      },
      "execution_count": 4,
      "outputs": []
    },
    {
      "cell_type": "markdown",
      "source": [
        "# Membagi data menjadi input dan target\n",
        "\n",
        "saya memisahkan data menjadi input (X) dan target (y). Kolom 'quality' digunakan sebagai target, sedangkan fitur lainnya sebagai input."
      ],
      "metadata": {
        "id": "EBYxfxAYn5As"
      }
    },
    {
      "cell_type": "code",
      "source": [
        "X = data.drop('quality', axis=1)\n",
        "y = data['quality']"
      ],
      "metadata": {
        "id": "MvThOU-SjLx5"
      },
      "execution_count": 5,
      "outputs": []
    },
    {
      "cell_type": "markdown",
      "source": [
        "# Standarisasi data\n",
        "\n",
        "saya melakukan standardisasi data agar semua fitur memiliki skala yang sama menggunakan StandardScaler"
      ],
      "metadata": {
        "id": "1r6Bam9KoC4h"
      }
    },
    {
      "cell_type": "code",
      "source": [
        "scaler = StandardScaler()\n",
        "X = scaler.fit_transform(X)"
      ],
      "metadata": {
        "id": "cZRiVOnAjRR9"
      },
      "execution_count": 7,
      "outputs": []
    },
    {
      "cell_type": "markdown",
      "source": [
        "# Dibagi menjadi set pelatihan dan validasi\n",
        "\n",
        "Data dibagi menjadi dua bagian: training dan validasi dengan perbandingan 80:20. Set training digunakan untuk melatih model, sementara set validasi digunakan untuk mengevaluasi performa model"
      ],
      "metadata": {
        "id": "yHInmL_SoG-F"
      }
    },
    {
      "cell_type": "code",
      "source": [
        "X_train, X_val, y_train, y_val = train_test_split(X, y, test_size=0.2, random_state=42)"
      ],
      "metadata": {
        "id": "gng86t8gjSDY"
      },
      "execution_count": 8,
      "outputs": []
    },
    {
      "cell_type": "markdown",
      "source": [
        "#Membuat Modelnya\n",
        "\n",
        "saya menggunakan Sequential Model dari Keras untuk membuat jaringan neural sederhana:\n",
        "1. Lapisan Input: Lapisan pertama memiliki 64 neuron dengan fungsi aktivasi ReLU.\n",
        "2. Lapisan Tersembunyi: Lapisan kedua memiliki 32 neuron dengan fungsi aktivasi ReLU.\n",
        "3. Lapisan Output: Lapisan terakhir memiliki 1 neuron dengan fungsi aktivasi linear, karena kita memprediksi nilai kontinu (kualitas anggur)."
      ],
      "metadata": {
        "id": "riDcDNj4obHa"
      }
    },
    {
      "cell_type": "code",
      "source": [
        "model = Sequential()\n",
        "model.add(Dense(64, input_dim=X_train.shape[1], activation='relu'))\n",
        "model.add(Dense(32, activation='relu'))\n",
        "model.add(Dense(1, activation='linear'))"
      ],
      "metadata": {
        "colab": {
          "base_uri": "https://localhost:8080/"
        },
        "id": "Bc0bh2TnjdY0",
        "outputId": "f49a9f22-2c23-441d-d1f1-3f404baae57f"
      },
      "execution_count": 9,
      "outputs": [
        {
          "output_type": "stream",
          "name": "stderr",
          "text": [
            "/usr/local/lib/python3.10/dist-packages/keras/src/layers/core/dense.py:87: UserWarning: Do not pass an `input_shape`/`input_dim` argument to a layer. When using Sequential models, prefer using an `Input(shape)` object as the first layer in the model instead.\n",
            "  super().__init__(activity_regularizer=activity_regularizer, **kwargs)\n"
          ]
        }
      ]
    },
    {
      "cell_type": "markdown",
      "source": [
        "# Kompilasi model\n",
        "\n",
        "Model dikompilasi dengan optimizer 'adam' dan loss function 'mean squared error' (MSE). saya menggunakan 'mean absolute error' sebagai metrik untuk mengevaluasi performa model."
      ],
      "metadata": {
        "id": "E_N0GWTIof-q"
      }
    },
    {
      "cell_type": "code",
      "source": [
        "model.compile(optimizer='adam', loss='mse', metrics=['mae'])"
      ],
      "metadata": {
        "id": "MAsm-hLWjh2T"
      },
      "execution_count": 11,
      "outputs": []
    },
    {
      "cell_type": "markdown",
      "source": [
        "#Melatih Model\n",
        "\n",
        "Model dilatih menggunakan data training selama 50 epoch dengan batch size 32. saya juga memasukkan data validasi untuk mengevaluasi performa model pada setiap epoch."
      ],
      "metadata": {
        "id": "FWltgtu8oj_U"
      }
    },
    {
      "cell_type": "code",
      "source": [
        "history = model.fit(X_train, y_train, epochs=50, batch_size=32, validation_data=(X_val, y_val))"
      ],
      "metadata": {
        "colab": {
          "base_uri": "https://localhost:8080/"
        },
        "id": "WHh47lt8jhpV",
        "outputId": "07cea568-7a45-4142-eef9-763e9a48239b"
      },
      "execution_count": 12,
      "outputs": [
        {
          "output_type": "stream",
          "name": "stdout",
          "text": [
            "Epoch 1/50\n",
            "\u001b[1m40/40\u001b[0m \u001b[32m━━━━━━━━━━━━━━━━━━━━\u001b[0m\u001b[37m\u001b[0m \u001b[1m1s\u001b[0m 6ms/step - loss: 21.7967 - mae: 4.5042 - val_loss: 5.7284 - val_mae: 2.0962\n",
            "Epoch 2/50\n",
            "\u001b[1m40/40\u001b[0m \u001b[32m━━━━━━━━━━━━━━━━━━━━\u001b[0m\u001b[37m\u001b[0m \u001b[1m0s\u001b[0m 2ms/step - loss: 4.3043 - mae: 1.7314 - val_loss: 2.7456 - val_mae: 1.3083\n",
            "Epoch 3/50\n",
            "\u001b[1m40/40\u001b[0m \u001b[32m━━━━━━━━━━━━━━━━━━━━\u001b[0m\u001b[37m\u001b[0m \u001b[1m0s\u001b[0m 4ms/step - loss: 2.3483 - mae: 1.2119 - val_loss: 2.1601 - val_mae: 1.1601\n",
            "Epoch 4/50\n",
            "\u001b[1m40/40\u001b[0m \u001b[32m━━━━━━━━━━━━━━━━━━━━\u001b[0m\u001b[37m\u001b[0m \u001b[1m0s\u001b[0m 4ms/step - loss: 2.0428 - mae: 1.1276 - val_loss: 1.8000 - val_mae: 1.0644\n",
            "Epoch 5/50\n",
            "\u001b[1m40/40\u001b[0m \u001b[32m━━━━━━━━━━━━━━━━━━━━\u001b[0m\u001b[37m\u001b[0m \u001b[1m0s\u001b[0m 3ms/step - loss: 1.6916 - mae: 1.0251 - val_loss: 1.5588 - val_mae: 0.9927\n",
            "Epoch 6/50\n",
            "\u001b[1m40/40\u001b[0m \u001b[32m━━━━━━━━━━━━━━━━━━━━\u001b[0m\u001b[37m\u001b[0m \u001b[1m0s\u001b[0m 3ms/step - loss: 1.4354 - mae: 0.9565 - val_loss: 1.3724 - val_mae: 0.9300\n",
            "Epoch 7/50\n",
            "\u001b[1m40/40\u001b[0m \u001b[32m━━━━━━━━━━━━━━━━━━━━\u001b[0m\u001b[37m\u001b[0m \u001b[1m0s\u001b[0m 4ms/step - loss: 1.2688 - mae: 0.8841 - val_loss: 1.2279 - val_mae: 0.8767\n",
            "Epoch 8/50\n",
            "\u001b[1m40/40\u001b[0m \u001b[32m━━━━━━━━━━━━━━━━━━━━\u001b[0m\u001b[37m\u001b[0m \u001b[1m0s\u001b[0m 4ms/step - loss: 1.1507 - mae: 0.8389 - val_loss: 1.0885 - val_mae: 0.8250\n",
            "Epoch 9/50\n",
            "\u001b[1m40/40\u001b[0m \u001b[32m━━━━━━━━━━━━━━━━━━━━\u001b[0m\u001b[37m\u001b[0m \u001b[1m0s\u001b[0m 4ms/step - loss: 0.9876 - mae: 0.7857 - val_loss: 0.9736 - val_mae: 0.7817\n",
            "Epoch 10/50\n",
            "\u001b[1m40/40\u001b[0m \u001b[32m━━━━━━━━━━━━━━━━━━━━\u001b[0m\u001b[37m\u001b[0m \u001b[1m0s\u001b[0m 4ms/step - loss: 0.8779 - mae: 0.7263 - val_loss: 0.8973 - val_mae: 0.7460\n",
            "Epoch 11/50\n",
            "\u001b[1m40/40\u001b[0m \u001b[32m━━━━━━━━━━━━━━━━━━━━\u001b[0m\u001b[37m\u001b[0m \u001b[1m0s\u001b[0m 3ms/step - loss: 0.7730 - mae: 0.6784 - val_loss: 0.8180 - val_mae: 0.7219\n",
            "Epoch 12/50\n",
            "\u001b[1m40/40\u001b[0m \u001b[32m━━━━━━━━━━━━━━━━━━━━\u001b[0m\u001b[37m\u001b[0m \u001b[1m0s\u001b[0m 4ms/step - loss: 0.7223 - mae: 0.6667 - val_loss: 0.7573 - val_mae: 0.6976\n",
            "Epoch 13/50\n",
            "\u001b[1m40/40\u001b[0m \u001b[32m━━━━━━━━━━━━━━━━━━━━\u001b[0m\u001b[37m\u001b[0m \u001b[1m0s\u001b[0m 2ms/step - loss: 0.7089 - mae: 0.6517 - val_loss: 0.7151 - val_mae: 0.6766\n",
            "Epoch 14/50\n",
            "\u001b[1m40/40\u001b[0m \u001b[32m━━━━━━━━━━━━━━━━━━━━\u001b[0m\u001b[37m\u001b[0m \u001b[1m0s\u001b[0m 3ms/step - loss: 0.6930 - mae: 0.6446 - val_loss: 0.6636 - val_mae: 0.6479\n",
            "Epoch 15/50\n",
            "\u001b[1m40/40\u001b[0m \u001b[32m━━━━━━━━━━━━━━━━━━━━\u001b[0m\u001b[37m\u001b[0m \u001b[1m0s\u001b[0m 2ms/step - loss: 0.6217 - mae: 0.6161 - val_loss: 0.6254 - val_mae: 0.6330\n",
            "Epoch 16/50\n",
            "\u001b[1m40/40\u001b[0m \u001b[32m━━━━━━━━━━━━━━━━━━━━\u001b[0m\u001b[37m\u001b[0m \u001b[1m0s\u001b[0m 2ms/step - loss: 0.5354 - mae: 0.5731 - val_loss: 0.5759 - val_mae: 0.6033\n",
            "Epoch 17/50\n",
            "\u001b[1m40/40\u001b[0m \u001b[32m━━━━━━━━━━━━━━━━━━━━\u001b[0m\u001b[37m\u001b[0m \u001b[1m0s\u001b[0m 2ms/step - loss: 0.5656 - mae: 0.5919 - val_loss: 0.5577 - val_mae: 0.5893\n",
            "Epoch 18/50\n",
            "\u001b[1m40/40\u001b[0m \u001b[32m━━━━━━━━━━━━━━━━━━━━\u001b[0m\u001b[37m\u001b[0m \u001b[1m0s\u001b[0m 2ms/step - loss: 0.5282 - mae: 0.5657 - val_loss: 0.5225 - val_mae: 0.5749\n",
            "Epoch 19/50\n",
            "\u001b[1m40/40\u001b[0m \u001b[32m━━━━━━━━━━━━━━━━━━━━\u001b[0m\u001b[37m\u001b[0m \u001b[1m0s\u001b[0m 2ms/step - loss: 0.4697 - mae: 0.5337 - val_loss: 0.5175 - val_mae: 0.5664\n",
            "Epoch 20/50\n",
            "\u001b[1m40/40\u001b[0m \u001b[32m━━━━━━━━━━━━━━━━━━━━\u001b[0m\u001b[37m\u001b[0m \u001b[1m0s\u001b[0m 2ms/step - loss: 0.4918 - mae: 0.5456 - val_loss: 0.4939 - val_mae: 0.5573\n",
            "Epoch 21/50\n",
            "\u001b[1m40/40\u001b[0m \u001b[32m━━━━━━━━━━━━━━━━━━━━\u001b[0m\u001b[37m\u001b[0m \u001b[1m0s\u001b[0m 3ms/step - loss: 0.4738 - mae: 0.5324 - val_loss: 0.4757 - val_mae: 0.5411\n",
            "Epoch 22/50\n",
            "\u001b[1m40/40\u001b[0m \u001b[32m━━━━━━━━━━━━━━━━━━━━\u001b[0m\u001b[37m\u001b[0m \u001b[1m0s\u001b[0m 2ms/step - loss: 0.4489 - mae: 0.5212 - val_loss: 0.4515 - val_mae: 0.5315\n",
            "Epoch 23/50\n",
            "\u001b[1m40/40\u001b[0m \u001b[32m━━━━━━━━━━━━━━━━━━━━\u001b[0m\u001b[37m\u001b[0m \u001b[1m0s\u001b[0m 2ms/step - loss: 0.4503 - mae: 0.5184 - val_loss: 0.4508 - val_mae: 0.5326\n",
            "Epoch 24/50\n",
            "\u001b[1m40/40\u001b[0m \u001b[32m━━━━━━━━━━━━━━━━━━━━\u001b[0m\u001b[37m\u001b[0m \u001b[1m0s\u001b[0m 2ms/step - loss: 0.3895 - mae: 0.4949 - val_loss: 0.4331 - val_mae: 0.5248\n",
            "Epoch 25/50\n",
            "\u001b[1m40/40\u001b[0m \u001b[32m━━━━━━━━━━━━━━━━━━━━\u001b[0m\u001b[37m\u001b[0m \u001b[1m0s\u001b[0m 2ms/step - loss: 0.4080 - mae: 0.4969 - val_loss: 0.4199 - val_mae: 0.5084\n",
            "Epoch 26/50\n",
            "\u001b[1m40/40\u001b[0m \u001b[32m━━━━━━━━━━━━━━━━━━━━\u001b[0m\u001b[37m\u001b[0m \u001b[1m0s\u001b[0m 2ms/step - loss: 0.3809 - mae: 0.4743 - val_loss: 0.4199 - val_mae: 0.5112\n",
            "Epoch 27/50\n",
            "\u001b[1m40/40\u001b[0m \u001b[32m━━━━━━━━━━━━━━━━━━━━\u001b[0m\u001b[37m\u001b[0m \u001b[1m0s\u001b[0m 2ms/step - loss: 0.3713 - mae: 0.4714 - val_loss: 0.4130 - val_mae: 0.5079\n",
            "Epoch 28/50\n",
            "\u001b[1m40/40\u001b[0m \u001b[32m━━━━━━━━━━━━━━━━━━━━\u001b[0m\u001b[37m\u001b[0m \u001b[1m0s\u001b[0m 3ms/step - loss: 0.3785 - mae: 0.4760 - val_loss: 0.4085 - val_mae: 0.5127\n",
            "Epoch 29/50\n",
            "\u001b[1m40/40\u001b[0m \u001b[32m━━━━━━━━━━━━━━━━━━━━\u001b[0m\u001b[37m\u001b[0m \u001b[1m0s\u001b[0m 2ms/step - loss: 0.3740 - mae: 0.4737 - val_loss: 0.4147 - val_mae: 0.5136\n",
            "Epoch 30/50\n",
            "\u001b[1m40/40\u001b[0m \u001b[32m━━━━━━━━━━━━━━━━━━━━\u001b[0m\u001b[37m\u001b[0m \u001b[1m0s\u001b[0m 2ms/step - loss: 0.3714 - mae: 0.4696 - val_loss: 0.3993 - val_mae: 0.5024\n",
            "Epoch 31/50\n",
            "\u001b[1m40/40\u001b[0m \u001b[32m━━━━━━━━━━━━━━━━━━━━\u001b[0m\u001b[37m\u001b[0m \u001b[1m0s\u001b[0m 3ms/step - loss: 0.3869 - mae: 0.4754 - val_loss: 0.3973 - val_mae: 0.5092\n",
            "Epoch 32/50\n",
            "\u001b[1m40/40\u001b[0m \u001b[32m━━━━━━━━━━━━━━━━━━━━\u001b[0m\u001b[37m\u001b[0m \u001b[1m0s\u001b[0m 2ms/step - loss: 0.3480 - mae: 0.4589 - val_loss: 0.3838 - val_mae: 0.4997\n",
            "Epoch 33/50\n",
            "\u001b[1m40/40\u001b[0m \u001b[32m━━━━━━━━━━━━━━━━━━━━\u001b[0m\u001b[37m\u001b[0m \u001b[1m0s\u001b[0m 2ms/step - loss: 0.3464 - mae: 0.4590 - val_loss: 0.3919 - val_mae: 0.5013\n",
            "Epoch 34/50\n",
            "\u001b[1m40/40\u001b[0m \u001b[32m━━━━━━━━━━━━━━━━━━━━\u001b[0m\u001b[37m\u001b[0m \u001b[1m0s\u001b[0m 3ms/step - loss: 0.3568 - mae: 0.4624 - val_loss: 0.4003 - val_mae: 0.5052\n",
            "Epoch 35/50\n",
            "\u001b[1m40/40\u001b[0m \u001b[32m━━━━━━━━━━━━━━━━━━━━\u001b[0m\u001b[37m\u001b[0m \u001b[1m0s\u001b[0m 2ms/step - loss: 0.3517 - mae: 0.4522 - val_loss: 0.3902 - val_mae: 0.5020\n",
            "Epoch 36/50\n",
            "\u001b[1m40/40\u001b[0m \u001b[32m━━━━━━━━━━━━━━━━━━━━\u001b[0m\u001b[37m\u001b[0m \u001b[1m0s\u001b[0m 2ms/step - loss: 0.3673 - mae: 0.4756 - val_loss: 0.3829 - val_mae: 0.4938\n",
            "Epoch 37/50\n",
            "\u001b[1m40/40\u001b[0m \u001b[32m━━━━━━━━━━━━━━━━━━━━\u001b[0m\u001b[37m\u001b[0m \u001b[1m0s\u001b[0m 2ms/step - loss: 0.3232 - mae: 0.4352 - val_loss: 0.4174 - val_mae: 0.5150\n",
            "Epoch 38/50\n",
            "\u001b[1m40/40\u001b[0m \u001b[32m━━━━━━━━━━━━━━━━━━━━\u001b[0m\u001b[37m\u001b[0m \u001b[1m0s\u001b[0m 2ms/step - loss: 0.3607 - mae: 0.4671 - val_loss: 0.3984 - val_mae: 0.5091\n",
            "Epoch 39/50\n",
            "\u001b[1m40/40\u001b[0m \u001b[32m━━━━━━━━━━━━━━━━━━━━\u001b[0m\u001b[37m\u001b[0m \u001b[1m0s\u001b[0m 2ms/step - loss: 0.3460 - mae: 0.4522 - val_loss: 0.3815 - val_mae: 0.4960\n",
            "Epoch 40/50\n",
            "\u001b[1m40/40\u001b[0m \u001b[32m━━━━━━━━━━━━━━━━━━━━\u001b[0m\u001b[37m\u001b[0m \u001b[1m0s\u001b[0m 2ms/step - loss: 0.3375 - mae: 0.4488 - val_loss: 0.3843 - val_mae: 0.4973\n",
            "Epoch 41/50\n",
            "\u001b[1m40/40\u001b[0m \u001b[32m━━━━━━━━━━━━━━━━━━━━\u001b[0m\u001b[37m\u001b[0m \u001b[1m0s\u001b[0m 3ms/step - loss: 0.3239 - mae: 0.4366 - val_loss: 0.3759 - val_mae: 0.4916\n",
            "Epoch 42/50\n",
            "\u001b[1m40/40\u001b[0m \u001b[32m━━━━━━━━━━━━━━━━━━━━\u001b[0m\u001b[37m\u001b[0m \u001b[1m0s\u001b[0m 3ms/step - loss: 0.3057 - mae: 0.4204 - val_loss: 0.3870 - val_mae: 0.5019\n",
            "Epoch 43/50\n",
            "\u001b[1m40/40\u001b[0m \u001b[32m━━━━━━━━━━━━━━━━━━━━\u001b[0m\u001b[37m\u001b[0m \u001b[1m0s\u001b[0m 3ms/step - loss: 0.3350 - mae: 0.4523 - val_loss: 0.3879 - val_mae: 0.4937\n",
            "Epoch 44/50\n",
            "\u001b[1m40/40\u001b[0m \u001b[32m━━━━━━━━━━━━━━━━━━━━\u001b[0m\u001b[37m\u001b[0m \u001b[1m0s\u001b[0m 3ms/step - loss: 0.3365 - mae: 0.4410 - val_loss: 0.3874 - val_mae: 0.4989\n",
            "Epoch 45/50\n",
            "\u001b[1m40/40\u001b[0m \u001b[32m━━━━━━━━━━━━━━━━━━━━\u001b[0m\u001b[37m\u001b[0m \u001b[1m0s\u001b[0m 2ms/step - loss: 0.3423 - mae: 0.4499 - val_loss: 0.3806 - val_mae: 0.4966\n",
            "Epoch 46/50\n",
            "\u001b[1m40/40\u001b[0m \u001b[32m━━━━━━━━━━━━━━━━━━━━\u001b[0m\u001b[37m\u001b[0m \u001b[1m0s\u001b[0m 3ms/step - loss: 0.3363 - mae: 0.4435 - val_loss: 0.3730 - val_mae: 0.4861\n",
            "Epoch 47/50\n",
            "\u001b[1m40/40\u001b[0m \u001b[32m━━━━━━━━━━━━━━━━━━━━\u001b[0m\u001b[37m\u001b[0m \u001b[1m0s\u001b[0m 3ms/step - loss: 0.3207 - mae: 0.4272 - val_loss: 0.3968 - val_mae: 0.5041\n",
            "Epoch 48/50\n",
            "\u001b[1m40/40\u001b[0m \u001b[32m━━━━━━━━━━━━━━━━━━━━\u001b[0m\u001b[37m\u001b[0m \u001b[1m0s\u001b[0m 3ms/step - loss: 0.3234 - mae: 0.4428 - val_loss: 0.3863 - val_mae: 0.5005\n",
            "Epoch 49/50\n",
            "\u001b[1m40/40\u001b[0m \u001b[32m━━━━━━━━━━━━━━━━━━━━\u001b[0m\u001b[37m\u001b[0m \u001b[1m0s\u001b[0m 2ms/step - loss: 0.2930 - mae: 0.4080 - val_loss: 0.3828 - val_mae: 0.4945\n",
            "Epoch 50/50\n",
            "\u001b[1m40/40\u001b[0m \u001b[32m━━━━━━━━━━━━━━━━━━━━\u001b[0m\u001b[37m\u001b[0m \u001b[1m0s\u001b[0m 3ms/step - loss: 0.3217 - mae: 0.4432 - val_loss: 0.3709 - val_mae: 0.4836\n"
          ]
        }
      ]
    },
    {
      "cell_type": "markdown",
      "source": [
        "#Evaluasi Model\n",
        "\n",
        "Setelah model dilatih, saya mengevaluasi performa model pada data training dan validasi. Metode evaluate memberikan nilai loss dan MAE untuk kedua set data."
      ],
      "metadata": {
        "id": "CohP6u_Hoo7w"
      }
    },
    {
      "cell_type": "code",
      "source": [
        "train_loss, train_mae = model.evaluate(X_train, y_train)\n",
        "val_loss, val_mae = model.evaluate(X_val, y_val)\n",
        "\n",
        "print(f'Training MAE: {train_mae}, Validation MAE: {val_mae}')"
      ],
      "metadata": {
        "colab": {
          "base_uri": "https://localhost:8080/"
        },
        "id": "RmOQhhK7jmhU",
        "outputId": "5ad8be21-22b6-49dc-aedf-c4dd309e65e1"
      },
      "execution_count": 13,
      "outputs": [
        {
          "output_type": "stream",
          "name": "stdout",
          "text": [
            "\u001b[1m40/40\u001b[0m \u001b[32m━━━━━━━━━━━━━━━━━━━━\u001b[0m\u001b[37m\u001b[0m \u001b[1m0s\u001b[0m 1ms/step - loss: 0.3008 - mae: 0.4180  \n",
            "\u001b[1m10/10\u001b[0m \u001b[32m━━━━━━━━━━━━━━━━━━━━\u001b[0m\u001b[37m\u001b[0m \u001b[1m0s\u001b[0m 2ms/step - loss: 0.3916 - mae: 0.4863 \n",
            "Training MAE: 0.4133481979370117, Validation MAE: 0.4835751950740814\n"
          ]
        }
      ]
    }
  ]
}